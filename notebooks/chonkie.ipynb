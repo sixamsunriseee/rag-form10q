{
 "cells": [
  {
   "metadata": {},
   "cell_type": "markdown",
   "source": "# Chunking parsed text",
   "id": "658943e76c6e738"
  },
  {
   "cell_type": "code",
   "id": "initial_id",
   "metadata": {
    "collapsed": true,
    "ExecuteTime": {
     "end_time": "2025-07-28T17:10:40.296974Z",
     "start_time": "2025-07-28T17:10:40.212396Z"
    }
   },
   "source": "from chonkie import *",
   "outputs": [],
   "execution_count": 1
  },
  {
   "metadata": {},
   "cell_type": "code",
   "source": [
    "chunk_size = 2048\n",
    "chunk_overlap = int(chunk_size * 0.2)\n",
    "embedding_model = 'sentence-transformers/all-MiniLM-L6-v2'\n",
    "\n",
    "# https://github.com/chonkie-inc/chonkie?tab=readme-ov-file#chunkers\n",
    "chunkers_txt = {\n",
    "    'token_txt': TokenChunker(chunk_size=chunk_size, chunk_overlap=chunk_overlap),\n",
    "    'sentence_txt': SentenceChunker(chunk_size=chunk_size, chunk_overlap=chunk_overlap),\n",
    "    'recursive_txt': RecursiveChunker(chunk_size=chunk_size),\n",
    "    'semantic_txt': SemanticChunker(chunk_size=chunk_size, embedding_model=embedding_model),\n",
    "    'sdpm_txt': SDPMChunker(chunk_size=chunk_size, embedding_model=embedding_model),\n",
    "    'neural': NeuralChunker(),\n",
    "\n",
    "    # Warning:\n",
    "    # Token indices sequence length is longer than the specified maximum sequence length for this model (16333 > 256).\n",
    "    # Running this sequence through the model will result in indexing errors\n",
    "    # 'late': LateChunker(chunk_size=chunk_size, embedding_model=embedding_model),\n",
    "\n",
    "    # Requires Gemini interface model and api_key\n",
    "    # 'slumber': SlumberChunker(chunk_size=chunk_size)\n",
    "}\n",
    "\n",
    "chunkers_md = {\n",
    "    'token_md': TokenChunker(chunk_size=chunk_size, chunk_overlap=chunk_overlap),\n",
    "    'sentence_md': SentenceChunker.from_recipe('markdown', lang='en', chunk_size=chunk_size, chunk_overlap=chunk_overlap),\n",
    "    'recursive_md': RecursiveChunker.from_recipe('markdown', lang='en', chunk_size=chunk_size),\n",
    "    'semantic_md': SemanticChunker.from_recipe('markdown', lang='en', embedding_model=embedding_model, chunk_size=chunk_size),\n",
    "\n",
    "    # Warning:\n",
    "    # Token indices sequence length is longer than the specified maximum sequence length for this model (290 > 256).\n",
    "    # Running this sequence through the model will result in indexing errors\n",
    "    # 'sdpm_md': SDPMChunker.from_recipe('markdown', lang='en', chunk_size=chunk_size, embedding_model=embedding_model),\n",
    "\n",
    "    # Warning:\n",
    "    # Token indices sequence length is longer than the specified maximum sequence length for this model (699 > 256).\n",
    "    # Running this sequence through the model will result in indexing errors\n",
    "    # 'late_md': LateChunker.from_recipe('markdown', lang='en', chunk_size=chunk_size, embedding_model=embedding_model)\n",
    "}"
   ],
   "id": "941b05ae3a90a35e",
   "outputs": [],
   "execution_count": null
  },
  {
   "metadata": {
    "ExecuteTime": {
     "end_time": "2025-07-18T03:27:07.623016Z",
     "start_time": "2025-07-18T03:27:07.619218Z"
    }
   },
   "cell_type": "code",
   "source": [
    "def log_chunk_strategies(text: str, chunkers: dict, output_name: str, file_type: str):\n",
    "    for chunker_name, chunker in chunkers.items():\n",
    "        with open(output_name + chunker_name + file_type, 'w') as file:\n",
    "            chunks = chunker(text)\n",
    "            file.write('\\n\\n'.join(map(lambda x: x.content, chunks)))"
   ],
   "id": "95c911da02226641",
   "outputs": [],
   "execution_count": 100
  },
  {
   "metadata": {
    "ExecuteTime": {
     "end_time": "2025-07-18T03:27:12.372084Z",
     "start_time": "2025-07-18T03:27:09.388186Z"
    }
   },
   "cell_type": "code",
   "source": [
    "with open('parsers/outputs/pdfplumber.txt') as file:\n",
    "    log_chunk_strategies(file.read(), chunkers_txt, 'outputs/chunks/pdfplumber/', '.txt')"
   ],
   "id": "f4270486dceeffd2",
   "outputs": [],
   "execution_count": 101
  },
  {
   "metadata": {},
   "cell_type": "markdown",
   "source": [
    "Neural was quiet good - small chunks and accurate\n",
    "\n",
    "Token / Sentence - fine for such big chunk sizes\n",
    "\n",
    "SDPM / Semantic - bad\n",
    "\n",
    "Recursive - I don't like it, looks like Token without overlap"
   ],
   "id": "d0052eb15bf7ff18"
  },
  {
   "metadata": {
    "ExecuteTime": {
     "end_time": "2025-07-18T03:27:13.028143Z",
     "start_time": "2025-07-18T03:27:12.896580Z"
    }
   },
   "cell_type": "code",
   "source": [
    "with open('parsers/outputs/marker.md') as file:\n",
    "    log_chunk_strategies(file.read(), chunkers_md, 'outputs/chunks/markdown/', '.md')"
   ],
   "id": "23ec0d207a5f2a11",
   "outputs": [],
   "execution_count": 102
  },
  {
   "metadata": {},
   "cell_type": "markdown",
   "source": "Same",
   "id": "6fbc26bfc7e1bcf7"
  }
 ],
 "metadata": {
  "kernelspec": {
   "display_name": "Python 3",
   "language": "python",
   "name": "python3"
  },
  "language_info": {
   "codemirror_mode": {
    "name": "ipython",
    "version": 2
   },
   "file_extension": ".py",
   "mimetype": "text/x-python",
   "name": "python",
   "nbconvert_exporter": "python",
   "pygments_lexer": "ipython2",
   "version": "2.7.6"
  }
 },
 "nbformat": 4,
 "nbformat_minor": 5
}
