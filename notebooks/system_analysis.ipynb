{
 "cells": [
  {
   "metadata": {
    "ExecuteTime": {
     "end_time": "2025-08-08T06:45:24.337486Z",
     "start_time": "2025-08-08T06:45:24.302897Z"
    }
   },
   "cell_type": "code",
   "source": [
    "%load_ext autoreload\n",
    "%autoreload 2"
   ],
   "id": "f9c0c42737c4fefa",
   "outputs": [],
   "execution_count": 1
  },
  {
   "metadata": {
    "ExecuteTime": {
     "end_time": "2025-08-08T07:31:13.626373Z",
     "start_time": "2025-08-08T07:31:13.503689Z"
    }
   },
   "cell_type": "code",
   "source": [
    "import json\n",
    "import pandas as pd\n",
    "\n",
    "from ragas import evaluate, EvaluationDataset\n",
    "from ragas.llms import LangchainLLMWrapper\n",
    "from ragas.metrics import LLMContextRecall, Faithfulness, FactualCorrectness\n",
    "from langchain_openai.chat_models import ChatOpenAI\n",
    "\n",
    "from src.llm.openai_ import OpenLLM\n",
    "from src.vec_database.dense import DenseDatabase\n",
    "from src.embedding.fastembed_ import MiniLmEmbedding\n",
    "from src.embedding.qwen import QwenEmbeddingSmall\n",
    "from src.embedding.openai_ import OpenEmbeddingSmall\n",
    "from src.util import answer_questions\n",
    "\n",
    "from config import OPENAI_KEY, DENSE_CONN_STRING"
   ],
   "id": "f8f69245ae10cc01",
   "outputs": [],
   "execution_count": 24
  },
  {
   "metadata": {
    "ExecuteTime": {
     "end_time": "2025-08-08T06:45:27.455173Z",
     "start_time": "2025-08-08T06:45:27.417313Z"
    }
   },
   "cell_type": "code",
   "source": "df_ideal = pd.read_csv('../data/ideal_answers.csv')",
   "id": "4c2127adb0272f83",
   "outputs": [],
   "execution_count": 3
  },
  {
   "metadata": {
    "ExecuteTime": {
     "end_time": "2025-08-08T06:45:27.502289Z",
     "start_time": "2025-08-08T06:45:27.476229Z"
    }
   },
   "cell_type": "code",
   "source": "df_ideal.head()",
   "id": "81c46966c07cf45c",
   "outputs": [
    {
     "data": {
      "text/plain": [
       "                                            Question Source Docs  \\\n",
       "0  How has Apple's total net sales changed over t...      *AAPL*   \n",
       "1  What are the major factors contributing to the...      *AAPL*   \n",
       "2  Has there been any significant change in Apple...      *AAPL*   \n",
       "3  How has Apple's revenue from iPhone sales fluc...      *AAPL*   \n",
       "4  Can any trends be identified in Apple's Servic...      *AAPL*   \n",
       "\n",
       "   Question Type Source Chunk Type  \\\n",
       "0  Multi-Doc RAG             Table   \n",
       "1  Multi-Doc RAG              Text   \n",
       "2  Multi-Doc RAG             Table   \n",
       "3  Multi-Doc RAG             Table   \n",
       "4  Multi-Doc RAG             Table   \n",
       "\n",
       "                                              Answer  \n",
       "0  Based on the provided documents, Apple's total...  \n",
       "1  In the most recent 10-Q for the quarter ended ...  \n",
       "2  Yes, there has been a change in Apple's operat...  \n",
       "3  The revenue from iPhone sales for Apple has fl...  \n",
       "4  Based on the provided documents, there is a tr...  "
      ],
      "text/html": [
       "<div>\n",
       "<style scoped>\n",
       "    .dataframe tbody tr th:only-of-type {\n",
       "        vertical-align: middle;\n",
       "    }\n",
       "\n",
       "    .dataframe tbody tr th {\n",
       "        vertical-align: top;\n",
       "    }\n",
       "\n",
       "    .dataframe thead th {\n",
       "        text-align: right;\n",
       "    }\n",
       "</style>\n",
       "<table border=\"1\" class=\"dataframe\">\n",
       "  <thead>\n",
       "    <tr style=\"text-align: right;\">\n",
       "      <th></th>\n",
       "      <th>Question</th>\n",
       "      <th>Source Docs</th>\n",
       "      <th>Question Type</th>\n",
       "      <th>Source Chunk Type</th>\n",
       "      <th>Answer</th>\n",
       "    </tr>\n",
       "  </thead>\n",
       "  <tbody>\n",
       "    <tr>\n",
       "      <th>0</th>\n",
       "      <td>How has Apple's total net sales changed over t...</td>\n",
       "      <td>*AAPL*</td>\n",
       "      <td>Multi-Doc RAG</td>\n",
       "      <td>Table</td>\n",
       "      <td>Based on the provided documents, Apple's total...</td>\n",
       "    </tr>\n",
       "    <tr>\n",
       "      <th>1</th>\n",
       "      <td>What are the major factors contributing to the...</td>\n",
       "      <td>*AAPL*</td>\n",
       "      <td>Multi-Doc RAG</td>\n",
       "      <td>Text</td>\n",
       "      <td>In the most recent 10-Q for the quarter ended ...</td>\n",
       "    </tr>\n",
       "    <tr>\n",
       "      <th>2</th>\n",
       "      <td>Has there been any significant change in Apple...</td>\n",
       "      <td>*AAPL*</td>\n",
       "      <td>Multi-Doc RAG</td>\n",
       "      <td>Table</td>\n",
       "      <td>Yes, there has been a change in Apple's operat...</td>\n",
       "    </tr>\n",
       "    <tr>\n",
       "      <th>3</th>\n",
       "      <td>How has Apple's revenue from iPhone sales fluc...</td>\n",
       "      <td>*AAPL*</td>\n",
       "      <td>Multi-Doc RAG</td>\n",
       "      <td>Table</td>\n",
       "      <td>The revenue from iPhone sales for Apple has fl...</td>\n",
       "    </tr>\n",
       "    <tr>\n",
       "      <th>4</th>\n",
       "      <td>Can any trends be identified in Apple's Servic...</td>\n",
       "      <td>*AAPL*</td>\n",
       "      <td>Multi-Doc RAG</td>\n",
       "      <td>Table</td>\n",
       "      <td>Based on the provided documents, there is a tr...</td>\n",
       "    </tr>\n",
       "  </tbody>\n",
       "</table>\n",
       "</div>"
      ]
     },
     "execution_count": 4,
     "metadata": {},
     "output_type": "execute_result"
    }
   ],
   "execution_count": 4
  },
  {
   "metadata": {
    "ExecuteTime": {
     "end_time": "2025-08-08T06:45:30.318339Z",
     "start_time": "2025-08-08T06:45:30.288310Z"
    }
   },
   "cell_type": "code",
   "source": [
    "questions = df_ideal['Question'].tolist()\n",
    "references = df_ideal['Answer'].tolist()"
   ],
   "id": "79ea62a8f4de3401",
   "outputs": [],
   "execution_count": 5
  },
  {
   "metadata": {
    "ExecuteTime": {
     "end_time": "2025-08-08T06:45:38.071622Z",
     "start_time": "2025-08-08T06:45:32.293751Z"
    }
   },
   "cell_type": "code",
   "source": [
    "base_llm_name = 'gpt-4.1-nano'\n",
    "base_llm = OpenLLM(base_llm_name, OPENAI_KEY)\n",
    "available_dense_collections = {\n",
    "    MiniLmEmbedding(): ('1024-txt-minilm', 60),\n",
    "    QwenEmbeddingSmall(): ('1024-txt-qwen', 60),\n",
    "    OpenEmbeddingSmall(OPENAI_KEY): ('1024-txt-openai', 60)\n",
    "}\n",
    "\n",
    "with open('../instructions.json') as file:\n",
    "    base_instructions = str(json.load(file))"
   ],
   "id": "1a301b6337b56691",
   "outputs": [],
   "execution_count": 6
  },
  {
   "metadata": {
    "ExecuteTime": {
     "end_time": "2025-08-08T07:01:45.534370Z",
     "start_time": "2025-08-08T06:47:46.971531Z"
    }
   },
   "cell_type": "code",
   "source": [
    "for embedding, params in available_dense_collections.items():\n",
    "    database = DenseDatabase(DENSE_CONN_STRING, embedding)\n",
    "    collection_name, batch_size = params\n",
    "\n",
    "    dataset = list()\n",
    "\n",
    "    try:\n",
    "        answers = await answer_questions(base_llm, base_instructions, database, collection_name, retrieve_limit=10, questions=questions, batch_size=batch_size)\n",
    "\n",
    "        for question, answer, reference in zip(questions, answers, references):\n",
    "            response, retrieved_contexts = answer\n",
    "            dataset.append(\n",
    "                {\n",
    "                    \"user_input\": question,\n",
    "                    \"retrieved_contexts\": [str(chunk.model_dump()) for chunk in retrieved_contexts],\n",
    "                    \"response\": response,\n",
    "                    \"reference\": reference\n",
    "                }\n",
    "            )\n",
    "    finally:\n",
    "        await database.client.close()\n",
    "\n",
    "    with open(f'../data/system_answers/{collection_name}.json', 'w') as file:\n",
    "        json.dump(dataset, file, indent=4)"
   ],
   "id": "56eff5afafe8b379",
   "outputs": [],
   "execution_count": 7
  },
  {
   "metadata": {
    "ExecuteTime": {
     "end_time": "2025-08-08T07:43:58.148986Z",
     "start_time": "2025-08-08T07:35:50.029276Z"
    }
   },
   "cell_type": "code",
   "source": [
    "database = DenseDatabase(DENSE_CONN_STRING, MiniLmEmbedding())\n",
    "\n",
    "dataset = list()\n",
    "\n",
    "try:\n",
    "    answers = await answer_questions(\n",
    "        OpenLLM('gpt-4.1-mini', OPENAI_KEY),\n",
    "        base_instructions, database, '1024-txt-minilm',\n",
    "        retrieve_limit=20, questions=questions, batch_size=30\n",
    "    )\n",
    "\n",
    "    for question, answer, reference in zip(questions, answers, references):\n",
    "        response, retrieved_contexts = answer\n",
    "        dataset.append(\n",
    "            {\n",
    "                \"user_input\": question,\n",
    "                \"retrieved_contexts\": [str(chunk.model_dump()) for chunk in retrieved_contexts],\n",
    "                \"response\": response,\n",
    "                \"reference\": reference\n",
    "            }\n",
    "        )\n",
    "finally:\n",
    "    await database.client.close()\n",
    "\n",
    "with open(f'../data/system_answers/1024-txt-minilm-dense-gpt-4.1-mini.json', 'w') as file:\n",
    "    json.dump(dataset, file, indent=4)"
   ],
   "id": "d728f2ebb833a58a",
   "outputs": [],
   "execution_count": 25
  },
  {
   "metadata": {
    "ExecuteTime": {
     "end_time": "2025-08-08T08:05:41.381351Z",
     "start_time": "2025-08-08T07:46:07.077387Z"
    }
   },
   "cell_type": "code",
   "source": [
    "result = evaluate(\n",
    "    dataset=EvaluationDataset.from_list(dataset),\n",
    "    metrics=[LLMContextRecall(), Faithfulness(), FactualCorrectness()],\n",
    "    llm=LangchainLLMWrapper(ChatOpenAI(api_key=OPENAI_KEY, model='gpt-4o-mini', temperature=0))\n",
    ")"
   ],
   "id": "6ad15f3bec012b53",
   "outputs": [
    {
     "data": {
      "text/plain": [
       "Evaluating:   0%|          | 0/585 [00:00<?, ?it/s]"
      ],
      "application/vnd.jupyter.widget-view+json": {
       "version_major": 2,
       "version_minor": 0,
       "model_id": "3d6af163687048999e550fd3de2b057b"
      }
     },
     "metadata": {},
     "output_type": "display_data"
    },
    {
     "name": "stderr",
     "output_type": "stream",
     "text": [
      "Exception raised in Job[293]: TimeoutError()\n",
      "Exception raised in Job[553]: InternalServerError(upstream connect error or disconnect/reset before headers. reset reason: connection termination)\n"
     ]
    },
    {
     "name": "stdout",
     "output_type": "stream",
     "text": [
      "{'context_recall': 0.5272, 'faithfulness': 0.9145, 'factual_correctness(mode=f1)': 0.2858}\n"
     ]
    }
   ],
   "execution_count": 27
  },
  {
   "metadata": {},
   "cell_type": "code",
   "outputs": [],
   "execution_count": null,
   "source": "",
   "id": "69cace4d9f801b01"
  }
 ],
 "metadata": {
  "kernelspec": {
   "display_name": "Python 3",
   "language": "python",
   "name": "python3"
  },
  "language_info": {
   "codemirror_mode": {
    "name": "ipython",
    "version": 2
   },
   "file_extension": ".py",
   "mimetype": "text/x-python",
   "name": "python",
   "nbconvert_exporter": "python",
   "pygments_lexer": "ipython2",
   "version": "2.7.6"
  }
 },
 "nbformat": 4,
 "nbformat_minor": 5
}
