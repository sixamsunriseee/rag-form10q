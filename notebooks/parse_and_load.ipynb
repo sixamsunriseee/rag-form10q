{
 "cells": [
  {
   "metadata": {},
   "cell_type": "markdown",
   "source": "# Parsing",
   "id": "9ad7ec9b58cf7583"
  },
  {
   "metadata": {
    "ExecuteTime": {
     "end_time": "2025-08-08T05:20:13.390310Z",
     "start_time": "2025-08-08T05:20:13.354095Z"
    }
   },
   "cell_type": "code",
   "source": [
    "%load_ext autoreload\n",
    "%autoreload 2"
   ],
   "id": "c0b69981923ced00",
   "outputs": [],
   "execution_count": 1
  },
  {
   "metadata": {
    "ExecuteTime": {
     "end_time": "2025-08-08T05:13:50.245995Z",
     "start_time": "2025-08-08T05:13:44.489284Z"
    }
   },
   "cell_type": "code",
   "source": [
    "from src.util import parse_documents\n",
    "from src.parser.markdown import MarkdownParser\n",
    "from src.parser.text import TextParser\n",
    "from config import DOCS_PATH, MARKDOWNS_PATH, TEXTS_PATH\n",
    "\n",
    "markdown_parser = MarkdownParser()\n",
    "text_parser = TextParser()"
   ],
   "id": "9d4bd83078f73139",
   "outputs": [],
   "execution_count": 1
  },
  {
   "metadata": {
    "ExecuteTime": {
     "end_time": "2025-08-08T05:05:04.860997Z",
     "start_time": "2025-08-08T05:05:04.816813Z"
    }
   },
   "cell_type": "code",
   "source": [
    "# Was run previously under another project structure\n",
    "# %time\n",
    "# parse_documents(markdown_parser, DOCS_PATH, MARKDOWNS_PATH, '.md')\n",
    "# parse_documents(text_parser, DOCS_PATH, TEXTS_PATH, '.txt')"
   ],
   "id": "6e562546dff18476",
   "outputs": [],
   "execution_count": 3
  },
  {
   "metadata": {},
   "cell_type": "markdown",
   "source": "# Chunking",
   "id": "a3f3794b7757eed1"
  },
  {
   "metadata": {
    "ExecuteTime": {
     "end_time": "2025-08-08T05:13:50.988669Z",
     "start_time": "2025-08-08T05:13:50.404909Z"
    }
   },
   "cell_type": "code",
   "source": [
    "%time\n",
    "import os\n",
    "from itertools import product\n",
    "\n",
    "from src.util import generate_chunks\n",
    "from config import CHUNKS_PATH\n",
    "\n",
    "parsed_params = [\n",
    "    (MARKDOWNS_PATH, '.md'),\n",
    "    (TEXTS_PATH, '.txt')\n",
    "]\n",
    "chunking_params = [\n",
    "    (4096, 512),\n",
    "    (2048, 256),\n",
    "    (1024, 128)\n",
    "]\n",
    "\n",
    "for parsed_param, chunking_param in product(parsed_params, chunking_params):\n",
    "    input_directory, suffix = parsed_param\n",
    "    chunk_size, chunk_overlap = chunking_param\n",
    "    output_filepath = os.path.join(CHUNKS_PATH, f'{chunk_size}-{suffix.removeprefix('.')}.json')\n",
    "\n",
    "    generate_chunks(chunk_size, chunk_overlap, input_directory, suffix, output_filepath)"
   ],
   "id": "667b1544dc9f6761",
   "outputs": [
    {
     "name": "stdout",
     "output_type": "stream",
     "text": [
      "CPU times: user 1 μs, sys: 0 ns, total: 1 μs\n",
      "Wall time: 2.62 μs\n"
     ]
    }
   ],
   "execution_count": 3
  },
  {
   "metadata": {
    "ExecuteTime": {
     "end_time": "2025-08-08T05:26:12.057088Z",
     "start_time": "2025-08-08T05:26:12.017683Z"
    }
   },
   "cell_type": "code",
   "source": [
    "import os\n",
    "import time\n",
    "\n",
    "from src.util import load_chunks_to_database\n",
    "from src.vec_database.dense import DenseDatabase\n",
    "from src.embedding.fastembed_ import MiniLmEmbedding\n",
    "from src.embedding.openai_ import OpenEmbeddingSmall\n",
    "from src.embedding.qwen import QwenEmbeddingSmall\n",
    "from config import OPENAI_KEY, DENSE_CONN_STRING, CHUNKS_PATH\n",
    "\n",
    "\n",
    "async def upload_documents(*embeddings):\n",
    "    print('Uploading documents to DenseDatabase:')\n",
    "\n",
    "    for chunk_file in os.listdir(CHUNKS_PATH):\n",
    "        if 'md' in chunk_file:\n",
    "            continue\n",
    "\n",
    "        for embedding_name, embedding, batch_size in embeddings:\n",
    "            collection_name = f'{chunk_file.removesuffix('.json')}-{embedding_name}'\n",
    "            database = DenseDatabase(DENSE_CONN_STRING, embedding)\n",
    "\n",
    "            try:\n",
    "                start = time.time()\n",
    "\n",
    "                await load_chunks_to_database(\n",
    "                    database=database,\n",
    "                    collection_name=collection_name,\n",
    "                    chunk_file=os.path.join(CHUNKS_PATH, chunk_file),\n",
    "                    batch_size=batch_size,\n",
    "                )\n",
    "\n",
    "                end = time.time()\n",
    "                print(f'Uploaded: {collection_name} ({abs(end - start):.2f}s)')\n",
    "            finally:\n",
    "                await database.client.close()"
   ],
   "id": "7ba706fe8baeb743",
   "outputs": [],
   "execution_count": 10
  },
  {
   "metadata": {
    "ExecuteTime": {
     "end_time": "2025-08-08T05:56:51.271476Z",
     "start_time": "2025-08-08T05:26:14.226637Z"
    }
   },
   "cell_type": "code",
   "source": [
    "await upload_documents(\n",
    "    ('minilm', MiniLmEmbedding(), None),\n",
    "    ('qwen', QwenEmbeddingSmall(), None)\n",
    ")"
   ],
   "id": "579835bd84323cb9",
   "outputs": [
    {
     "name": "stdout",
     "output_type": "stream",
     "text": [
      "Uploading documents to DenseDatabase:\n",
      "Uploaded: 2048-txt-minilm (12.93s)\n",
      "Uploaded: 2048-txt-qwen (439.88s)\n",
      "Uploaded: 1024-txt-minilm (23.89s)\n",
      "Uploaded: 1024-txt-qwen (480.07s)\n",
      "Uploaded: 4096-txt-minilm (7.49s)\n",
      "Uploaded: 4096-txt-qwen (864.69s)\n"
     ]
    }
   ],
   "execution_count": 11
  },
  {
   "metadata": {
    "ExecuteTime": {
     "end_time": "2025-08-08T06:09:09.337908Z",
     "start_time": "2025-08-08T05:57:26.652969Z"
    }
   },
   "cell_type": "code",
   "source": [
    "await upload_documents(\n",
    "    ('openai', OpenEmbeddingSmall(OPENAI_KEY), 800)\n",
    ")"
   ],
   "id": "e95dcd8e0ab26bcc",
   "outputs": [
    {
     "name": "stdout",
     "output_type": "stream",
     "text": [
      "Uploading documents to DenseDatabase:\n",
      "Uploaded: 2048-txt-openai (208.34s)\n",
      "Uploaded: 1024-txt-openai (361.77s)\n",
      "Uploaded: 4096-txt-openai (128.90s)\n"
     ]
    }
   ],
   "execution_count": 12
  }
 ],
 "metadata": {
  "kernelspec": {
   "display_name": "Python 3",
   "language": "python",
   "name": "python3"
  },
  "language_info": {
   "codemirror_mode": {
    "name": "ipython",
    "version": 2
   },
   "file_extension": ".py",
   "mimetype": "text/x-python",
   "name": "python",
   "nbconvert_exporter": "python",
   "pygments_lexer": "ipython2",
   "version": "2.7.6"
  }
 },
 "nbformat": 4,
 "nbformat_minor": 5
}
