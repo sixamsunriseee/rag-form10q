{
 "cells": [
  {
   "metadata": {},
   "cell_type": "markdown",
   "source": "# Markdown parsing",
   "id": "8fc12abe056dd54f"
  },
  {
   "cell_type": "code",
   "id": "initial_id",
   "metadata": {
    "collapsed": true,
    "ExecuteTime": {
     "end_time": "2025-07-28T20:06:59.910780Z",
     "start_time": "2025-07-28T20:06:57.441978Z"
    }
   },
   "source": [
    "import json\n",
    "from typing import Literal\n",
    "\n",
    "from marker.models import create_model_dict\n",
    "from marker.converters.pdf import PdfConverter\n",
    "from marker.config.parser import ConfigParser\n",
    "from marker.output import text_from_rendered"
   ],
   "outputs": [],
   "execution_count": 2
  },
  {
   "metadata": {
    "ExecuteTime": {
     "end_time": "2025-07-20T04:05:59.856437Z",
     "start_time": "2025-07-20T04:05:59.838454Z"
    }
   },
   "cell_type": "code",
   "source": [
    "def convert(to: Literal['markdown', 'json', 'chunks']):\n",
    "    config_parser = ConfigParser(\n",
    "        {\n",
    "            'output_format': to,\n",
    "            'disable_image_extraction': True\n",
    "        }\n",
    "    )\n",
    "\n",
    "    converter = PdfConverter(\n",
    "        config=config_parser.generate_config_dict(),\n",
    "        artifact_dict=create_model_dict(),\n",
    "        processor_list=config_parser.get_processors(),\n",
    "        renderer=config_parser.get_renderer(),\n",
    "        llm_service=config_parser.get_llm_service()\n",
    "    )\n",
    "\n",
    "    rendered = converter(\"../../data/docs/2022 Q3 AAPL.pdf\")\n",
    "    text, *_ = text_from_rendered(rendered)\n",
    "\n",
    "    return text"
   ],
   "id": "9759a4692483fdab",
   "outputs": [],
   "execution_count": 40
  },
  {
   "metadata": {
    "ExecuteTime": {
     "end_time": "2025-07-18T02:24:42.261604Z",
     "start_time": "2025-07-18T02:24:16.101981Z"
    }
   },
   "cell_type": "code",
   "source": [
    "%%time\n",
    "\n",
    "with open('outputs/marker.md', 'w') as file:\n",
    "    file.write(convert('markdown'))"
   ],
   "id": "6097c1e25f181510",
   "outputs": [
    {
     "name": "stderr",
     "output_type": "stream",
     "text": [
      "Recognizing layout: 100%|██████████| 5/5 [00:06<00:00,  1.27s/it]\n",
      "Running OCR Error Detection: 100%|██████████| 7/7 [00:00<00:00, 16.48it/s]\n",
      "Detecting bboxes: 0it [00:00, ?it/s]\n",
      "Detecting bboxes: 0it [00:00, ?it/s]\n",
      "Recognizing tables: 100%|██████████| 6/6 [00:11<00:00,  1.93s/it]\n"
     ]
    },
    {
     "name": "stdout",
     "output_type": "stream",
     "text": [
      "CPU times: user 10.8 s, sys: 7.34 s, total: 18.1 s\n",
      "Wall time: 26.2 s\n"
     ]
    }
   ],
   "execution_count": 34
  },
  {
   "metadata": {
    "ExecuteTime": {
     "end_time": "2025-07-18T02:26:19.113929Z",
     "start_time": "2025-07-18T02:25:54.407276Z"
    }
   },
   "cell_type": "code",
   "source": [
    "%%time\n",
    "\n",
    "with open('outputs/marker.json', 'w') as file:\n",
    "    text = convert('json')\n",
    "    text = json.loads(text)\n",
    "    json.dump(text, file, indent=4)"
   ],
   "id": "49f567db7e2597e3",
   "outputs": [
    {
     "name": "stderr",
     "output_type": "stream",
     "text": [
      "Recognizing layout: 100%|██████████| 5/5 [00:06<00:00,  1.32s/it]\n",
      "Running OCR Error Detection: 100%|██████████| 7/7 [00:00<00:00, 17.11it/s]\n",
      "Detecting bboxes: 0it [00:00, ?it/s]\n",
      "Detecting bboxes: 0it [00:00, ?it/s]\n",
      "Recognizing tables: 100%|██████████| 6/6 [00:11<00:00,  1.88s/it]\n"
     ]
    },
    {
     "name": "stdout",
     "output_type": "stream",
     "text": [
      "CPU times: user 11.1 s, sys: 6.74 s, total: 17.9 s\n",
      "Wall time: 24.7 s\n"
     ]
    }
   ],
   "execution_count": 37
  },
  {
   "metadata": {
    "ExecuteTime": {
     "end_time": "2025-07-18T02:26:50.719814Z",
     "start_time": "2025-07-18T02:26:25.679540Z"
    }
   },
   "cell_type": "code",
   "source": [
    "%%time\n",
    "\n",
    "with open('outputs/marker-chunks.json', 'w') as file:\n",
    "    text = convert('chunks')\n",
    "    text = json.loads(text)\n",
    "    json.dump(text, file, indent=4)"
   ],
   "id": "47c70cece342cdc7",
   "outputs": [
    {
     "name": "stderr",
     "output_type": "stream",
     "text": [
      "Recognizing layout: 100%|██████████| 5/5 [00:06<00:00,  1.32s/it]\n",
      "Running OCR Error Detection: 100%|██████████| 7/7 [00:00<00:00, 18.51it/s]\n",
      "Detecting bboxes: 0it [00:00, ?it/s]\n",
      "Detecting bboxes: 0it [00:00, ?it/s]\n",
      "Recognizing tables: 100%|██████████| 6/6 [00:11<00:00,  1.86s/it]\n"
     ]
    },
    {
     "name": "stdout",
     "output_type": "stream",
     "text": [
      "CPU times: user 10.9 s, sys: 7.17 s, total: 18.1 s\n",
      "Wall time: 25 s\n"
     ]
    }
   ],
   "execution_count": 38
  }
 ],
 "metadata": {
  "kernelspec": {
   "display_name": "Python 3",
   "language": "python",
   "name": "python3"
  },
  "language_info": {
   "codemirror_mode": {
    "name": "ipython",
    "version": 2
   },
   "file_extension": ".py",
   "mimetype": "text/x-python",
   "name": "python",
   "nbconvert_exporter": "python",
   "pygments_lexer": "ipython2",
   "version": "2.7.6"
  }
 },
 "nbformat": 4,
 "nbformat_minor": 5
}
