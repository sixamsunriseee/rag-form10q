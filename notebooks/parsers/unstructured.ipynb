{
 "cells": [
  {
   "cell_type": "code",
   "id": "initial_id",
   "metadata": {
    "collapsed": true,
    "ExecuteTime": {
     "end_time": "2025-07-08T21:51:52.374999Z",
     "start_time": "2025-07-08T21:51:50.469518Z"
    }
   },
   "source": [
    "from unstructured.partition.pdf import partition_pdf\n",
    "\n",
    "PATH = '../../data/docs/2022 Q3 AAPL.pdf'"
   ],
   "outputs": [],
   "execution_count": 1
  },
  {
   "metadata": {
    "ExecuteTime": {
     "end_time": "2025-07-08T21:51:53.947685Z",
     "start_time": "2025-07-08T21:51:52.904894Z"
    }
   },
   "cell_type": "code",
   "source": "partition = partition_pdf(PATH)",
   "id": "18144945f101bfaa",
   "outputs": [],
   "execution_count": 2
  },
  {
   "metadata": {
    "ExecuteTime": {
     "end_time": "2025-07-08T21:51:54.858819Z",
     "start_time": "2025-07-08T21:51:54.855842Z"
    }
   },
   "cell_type": "code",
   "source": "print(type(partition))",
   "id": "dc3a1a8a1812d7e6",
   "outputs": [
    {
     "name": "stdout",
     "output_type": "stream",
     "text": [
      "<class 'list'>\n"
     ]
    }
   ],
   "execution_count": 3
  },
  {
   "metadata": {
    "ExecuteTime": {
     "end_time": "2025-07-08T21:51:56.291574Z",
     "start_time": "2025-07-08T21:51:56.285729Z"
    }
   },
   "cell_type": "code",
   "source": [
    "# https://docs.unstructured.io/open-source/concepts/document-elements#element-type\n",
    "{type(x) for x in partition}"
   ],
   "id": "2540d2f3ebf89f08",
   "outputs": [
    {
     "data": {
      "text/plain": [
       "{unstructured.documents.elements.Header,\n",
       " unstructured.documents.elements.ListItem,\n",
       " unstructured.documents.elements.NarrativeText,\n",
       " unstructured.documents.elements.Text,\n",
       " unstructured.documents.elements.Title}"
      ]
     },
     "execution_count": 4,
     "metadata": {},
     "output_type": "execute_result"
    }
   ],
   "execution_count": 4
  },
  {
   "metadata": {
    "ExecuteTime": {
     "end_time": "2025-07-08T21:53:49.282828Z",
     "start_time": "2025-07-08T21:52:07.808986Z"
    }
   },
   "cell_type": "code",
   "source": [
    "# describe strategies and observations\n",
    "# TODO: check cleaning and chunking tmrw\n",
    "def log_outputs_by_strategy():\n",
    "    for strategy in ['auto', 'hi_res', 'ocr_only', 'fast']:\n",
    "        partition = partition_pdf(PATH, strategy=strategy)\n",
    "\n",
    "        with open(f'outputs/unstructured-{strategy}.txt', 'w') as out:\n",
    "            for elem in partition:\n",
    "                out.write(f'{elem}\\n')\n",
    "\n",
    "log_outputs_by_strategy()"
   ],
   "id": "dc2124a7f4ff3fd7",
   "outputs": [],
   "execution_count": 6
  }
 ],
 "metadata": {
  "kernelspec": {
   "display_name": "Python 3",
   "language": "python",
   "name": "python3"
  },
  "language_info": {
   "codemirror_mode": {
    "name": "ipython",
    "version": 2
   },
   "file_extension": ".py",
   "mimetype": "text/x-python",
   "name": "python",
   "nbconvert_exporter": "python",
   "pygments_lexer": "ipython2",
   "version": "2.7.6"
  }
 },
 "nbformat": 4,
 "nbformat_minor": 5
}
