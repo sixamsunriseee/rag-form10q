{
 "cells": [
  {
   "cell_type": "code",
   "id": "initial_id",
   "metadata": {
    "collapsed": true,
    "ExecuteTime": {
     "end_time": "2025-07-16T23:14:20.307868Z",
     "start_time": "2025-07-16T23:14:20.301826Z"
    }
   },
   "source": [
    "import time\n",
    "from collections import Counter\n",
    "\n",
    "from unstructured.partition.pdf import partition_pdf"
   ],
   "outputs": [],
   "execution_count": 10
  },
  {
   "metadata": {
    "ExecuteTime": {
     "end_time": "2025-07-16T23:14:26.059938Z",
     "start_time": "2025-07-16T23:14:26.055579Z"
    }
   },
   "cell_type": "code",
   "source": "filepath = '../../data/docs/2022 Q3 AAPL.pdf'",
   "id": "9bec1b42a967f655",
   "outputs": [],
   "execution_count": 11
  },
  {
   "metadata": {},
   "cell_type": "markdown",
   "source": "# Raw parse",
   "id": "815fb956a364a9d5"
  },
  {
   "metadata": {
    "ExecuteTime": {
     "end_time": "2025-07-15T16:32:46.094995Z",
     "start_time": "2025-07-15T16:30:57.899298Z"
    }
   },
   "cell_type": "code",
   "source": [
    "def log_raw_parse_by_strategy():\n",
    "    for strategy in ['auto', 'hi_res', 'ocr_only', 'fast']:\n",
    "        start = time.time()\n",
    "        partition = partition_pdf(filepath, strategy=strategy)\n",
    "        end = time.time()\n",
    "\n",
    "        print(f'Strategy: {strategy} (parse time: {(end - start):.2f}s)')\n",
    "\n",
    "        # https://docs.unstructured.io/open-source/concepts/document-elements#element-type\n",
    "        unique_types = set()\n",
    "\n",
    "        with open(f'outputs/unstructured-{strategy}.txt', 'w') as out:\n",
    "            for elem in partition:\n",
    "                unique_types.add(type(elem))\n",
    "                out.write(\n",
    "                    f'Element type: {type(elem)}\\n'\n",
    "                    f'{elem}\\n\\n'\n",
    "                )\n",
    "\n",
    "        for x in unique_types:\n",
    "            print(x)\n",
    "\n",
    "        print('-' * 48)\n",
    "\n",
    "log_raw_parse_by_strategy()"
   ],
   "id": "dc2124a7f4ff3fd7",
   "outputs": [
    {
     "name": "stdout",
     "output_type": "stream",
     "text": [
      "Strategy: auto (parse time: 1.51s)\n",
      "<class 'unstructured.documents.elements.Text'>\n",
      "<class 'unstructured.documents.elements.ListItem'>\n",
      "<class 'unstructured.documents.elements.Header'>\n",
      "<class 'unstructured.documents.elements.Title'>\n",
      "<class 'unstructured.documents.elements.NarrativeText'>\n",
      "------------------------------------------------\n",
      "Strategy: hi_res (parse time: 46.80s)\n",
      "<class 'unstructured.documents.elements.Text'>\n",
      "<class 'unstructured.documents.elements.ListItem'>\n",
      "<class 'unstructured.documents.elements.FigureCaption'>\n",
      "<class 'unstructured.documents.elements.Header'>\n",
      "<class 'unstructured.documents.elements.Title'>\n",
      "<class 'unstructured.documents.elements.Table'>\n",
      "<class 'unstructured.documents.elements.NarrativeText'>\n",
      "<class 'unstructured.documents.elements.Image'>\n",
      "<class 'unstructured.documents.elements.Footer'>\n",
      "------------------------------------------------\n",
      "Strategy: ocr_only (parse time: 59.00s)\n",
      "<class 'unstructured.documents.elements.Title'>\n",
      "<class 'unstructured.documents.elements.Text'>\n",
      "<class 'unstructured.documents.elements.ListItem'>\n",
      "<class 'unstructured.documents.elements.NarrativeText'>\n",
      "------------------------------------------------\n",
      "Strategy: fast (parse time: 0.89s)\n",
      "<class 'unstructured.documents.elements.Text'>\n",
      "<class 'unstructured.documents.elements.ListItem'>\n",
      "<class 'unstructured.documents.elements.Header'>\n",
      "<class 'unstructured.documents.elements.Title'>\n",
      "<class 'unstructured.documents.elements.NarrativeText'>\n",
      "------------------------------------------------\n"
     ]
    }
   ],
   "execution_count": 5
  },
  {
   "metadata": {},
   "cell_type": "markdown",
   "source": [
    "## Element types and their meanings\n",
    "1) Image is a logo - 1 occurrence. Useless. (hi_res only)\n",
    "2) Footer - redundant, same on each page. Useless (hi_res only)\n",
    "3) ListItem + NarrativeText - necessary elements, strange parsing, different algorithm - different classification\n",
    "4) Text - necessary, good\n",
    "5) Header - small occurrence, strategies wrongly classified them, ocr_only did not use them (good)\n",
    "6) FigureCaption - only used in hi_res and small occurrence, wrong classification of element type\n",
    "7) Table - only captured by hi_res, super useful and somewhat good classification + parsing\n",
    "\n",
    "**Notes**:\n",
    "Seems like hi_res performed better overall (e.g. Table), with small mistakes and misclassifications. Possibly final parser pipeline will contain combination of several strategies. Links are not preserved in any of the strategy. Try some tweaking of hi_res, library provides many parameters for it."
   ],
   "id": "e184c50e61293682"
  },
  {
   "metadata": {},
   "cell_type": "code",
   "source": "partition = partition_pdf(filepath, strategy='hi_res', infer_table_structure=True,)",
   "id": "4b25d054ca12d49a",
   "outputs": [],
   "execution_count": 6
  },
  {
   "metadata": {
    "ExecuteTime": {
     "end_time": "2025-07-15T16:34:46.436423Z",
     "start_time": "2025-07-15T16:34:46.433700Z"
    }
   },
   "cell_type": "code",
   "source": "Counter(map(type, partition))",
   "id": "bfe163650cb4693b",
   "outputs": [
    {
     "data": {
      "text/plain": [
       "Counter({unstructured.documents.elements.Text: 233,\n",
       "         unstructured.documents.elements.NarrativeText: 142,\n",
       "         unstructured.documents.elements.Title: 98,\n",
       "         unstructured.documents.elements.ListItem: 34,\n",
       "         unstructured.documents.elements.Table: 33,\n",
       "         unstructured.documents.elements.Footer: 21,\n",
       "         unstructured.documents.elements.FigureCaption: 2,\n",
       "         unstructured.documents.elements.Header: 2,\n",
       "         unstructured.documents.elements.Image: 1})"
      ]
     },
     "execution_count": 9,
     "metadata": {},
     "output_type": "execute_result"
    }
   ],
   "execution_count": 9
  },
  {
   "metadata": {},
   "cell_type": "markdown",
   "source": "Tried parsing table elements (not only first) to pd frames - doesn't work :)))\n",
   "id": "45a5cae1d666aee2"
  },
  {
   "metadata": {
    "ExecuteTime": {
     "end_time": "2025-07-14T14:42:21.346555Z",
     "start_time": "2025-07-14T14:42:21.344548Z"
    }
   },
   "cell_type": "code",
   "source": [
    "# from io import StringIO\n",
    "# import pandas as pd\n",
    "#\n",
    "# tables = [elem for elem in partition if type(elem) == Table]\n",
    "# dummy = tables[0].metadata.text_as_html\n",
    "# df = pd.read_html(StringIO(dummy))\n",
    "# df[0]"
   ],
   "id": "5b100d21e4e29cbf",
   "outputs": [],
   "execution_count": 20
  }
 ],
 "metadata": {
  "kernelspec": {
   "display_name": "Python 3",
   "language": "python",
   "name": "python3"
  },
  "language_info": {
   "codemirror_mode": {
    "name": "ipython",
    "version": 2
   },
   "file_extension": ".py",
   "mimetype": "text/x-python",
   "name": "python",
   "nbconvert_exporter": "python",
   "pygments_lexer": "ipython2",
   "version": "2.7.6"
  }
 },
 "nbformat": 4,
 "nbformat_minor": 5
}
