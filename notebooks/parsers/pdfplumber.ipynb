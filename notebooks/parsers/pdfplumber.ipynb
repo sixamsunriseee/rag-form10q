{
 "cells": [
  {
   "cell_type": "code",
   "id": "initial_id",
   "metadata": {
    "collapsed": true,
    "ExecuteTime": {
     "end_time": "2025-07-18T02:48:30.951909Z",
     "start_time": "2025-07-18T02:48:30.891805Z"
    }
   },
   "source": "import pdfplumber",
   "outputs": [],
   "execution_count": 2
  },
  {
   "metadata": {
    "ExecuteTime": {
     "end_time": "2025-07-18T02:52:45.428130Z",
     "start_time": "2025-07-18T02:52:44.275339Z"
    }
   },
   "cell_type": "code",
   "source": [
    "%%time\n",
    "\n",
    "with pdfplumber.open('../../data/docs/2022 Q3 AAPL.pdf') as pdf:\n",
    "    texts = map(lambda page: page.extract_text(), pdf.pages)\n",
    "    text = '\\n\\n'.join(texts)"
   ],
   "id": "130b4f407870fc8c",
   "outputs": [
    {
     "name": "stdout",
     "output_type": "stream",
     "text": [
      "CPU times: user 1.12 s, sys: 28 ms, total: 1.15 s\n",
      "Wall time: 1.15 s\n"
     ]
    }
   ],
   "execution_count": 16
  },
  {
   "metadata": {
    "ExecuteTime": {
     "end_time": "2025-07-18T02:52:47.416297Z",
     "start_time": "2025-07-18T02:52:47.411745Z"
    }
   },
   "cell_type": "code",
   "source": [
    "with open('outputs/pdfplumber.txt', 'w') as file:\n",
    "    file.write(text)"
   ],
   "id": "5da00bd4d8e793f2",
   "outputs": [],
   "execution_count": 17
  },
  {
   "metadata": {},
   "cell_type": "markdown",
   "source": [
    "Unexpectedly, represented text is quite good,\n",
    "but there is no way to accurately extract tables (page.extract_tables() doesn't work well)"
   ],
   "id": "5387c0df04a4877d"
  }
 ],
 "metadata": {
  "kernelspec": {
   "display_name": "Python 3",
   "language": "python",
   "name": "python3"
  },
  "language_info": {
   "codemirror_mode": {
    "name": "ipython",
    "version": 2
   },
   "file_extension": ".py",
   "mimetype": "text/x-python",
   "name": "python",
   "nbconvert_exporter": "python",
   "pygments_lexer": "ipython2",
   "version": "2.7.6"
  }
 },
 "nbformat": 4,
 "nbformat_minor": 5
}
